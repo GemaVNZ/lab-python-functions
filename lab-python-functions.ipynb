{
 "cells": [
  {
   "cell_type": "markdown",
   "id": "25d7736c-ba17-4aff-b6bb-66eba20fbf4e",
   "metadata": {},
   "source": [
    "# Lab | Functions"
   ]
  },
  {
   "cell_type": "markdown",
   "id": "0c581062-8967-4d93-b06e-62833222f930",
   "metadata": {
    "tags": []
   },
   "source": [
    "## Exercise: Managing Customer Orders with Functions\n",
    "\n",
    "In the previous exercise, you improved the code for managing customer orders by using loops and flow control. Now, let's take it a step further and refactor the code by introducing functions.\n",
    "\n",
    "Follow the steps below to complete the exercise:\n",
    "\n",
    "1. Define a function named `initialize_inventory` that takes `products` as a parameter. Inside the function, implement the code for initializing the inventory dictionary using a loop and user input.\n",
    "\n",
    "2. Define a function named `get_customer_orders` that takes no parameters. Inside the function, implement the code for prompting the user to enter the product names using a loop. The function should return the `customer_orders` set.\n",
    "\n",
    "3. Define a function named `update_inventory` that takes `customer_orders` and `inventory` as parameters. Inside the function, implement the code for updating the inventory dictionary based on the customer orders.\n",
    "\n",
    "4. Define a function named `calculate_order_statistics` that takes `customer_orders` and `products` as parameters. Inside the function, implement the code for calculating the order statistics (total products ordered, and percentage of unique products ordered). The function should return these values.\n",
    "\n",
    "5. Define a function named `print_order_statistics` that takes `order_statistics` as a parameter. Inside the function, implement the code for printing the order statistics.\n",
    "\n",
    "6. Define a function named `print_updated_inventory` that takes `inventory` as a parameter. Inside the function, implement the code for printing the updated inventory.\n",
    "\n",
    "7. Call the functions in the appropriate sequence to execute the program and manage customer orders.\n",
    "\n",
    "Hints for functions:\n",
    "\n",
    "- Consider the input parameters required for each function and their return values.\n",
    "- Utilize function parameters and return values to transfer data between functions.\n",
    "- Test your functions individually to ensure they work correctly.\n",
    "\n",
    "\n"
   ]
  },
  {
   "cell_type": "code",
   "execution_count": 44,
   "id": "17c42a84",
   "metadata": {},
   "outputs": [],
   "source": [
    "def initialize_inventory(products):\n",
    "    inventory = {}\n",
    "\n",
    "    for product in products:\n",
    "        cantidad = int(input(f\"{product} tiene:   unidades en stock\"))\n",
    "        inventory[product] = int(cantidad)\n",
    "    return inventory"
   ]
  },
  {
   "cell_type": "code",
   "execution_count": 47,
   "id": "0006c9b2",
   "metadata": {},
   "outputs": [
    {
     "name": "stdout",
     "output_type": "stream",
     "text": [
      "{'t-shirt': 9, 'mug': 10, 'hat': 5, 'book': 7, 'keychain': 9}\n"
     ]
    }
   ],
   "source": [
    "inventory = initialize_inventory([\"t-shirt\", \"mug\", \"hat\", \"book\", \"keychain\"])\n",
    "print(inventory)"
   ]
  },
  {
   "cell_type": "code",
   "execution_count": 4,
   "id": "52411562",
   "metadata": {},
   "outputs": [],
   "source": [
    "inventory =  {\n",
    "    't-shirt': 9, \n",
    "    'mug': 10, \n",
    "    'hat': 5, \n",
    "    'book': 7, \n",
    "    'keychain': 9\n",
    "    \n",
    "    }\n",
    "\n",
    "def get_customer_orders():\n",
    "    customer_order = set()\n",
    "\n",
    "    while True:\n",
    "        product = input(\"Introduce el nombre del producto que quieres: \").lower() \n",
    "        if product in inventory and inventory[product] > 0:\n",
    "            print(f\"{product} en stock\")\n",
    "            customer_order.add(product)\n",
    "        else:\n",
    "            print(f\"{product} sin stock\")\n",
    "        \n",
    "        another = input(\"¿Quieres otro producto? (si/no): \").strip().lower()\n",
    "        if another == \"no\": \n",
    "                break \n",
    "        \n",
    "    return customer_order"
   ]
  },
  {
   "cell_type": "code",
   "execution_count": 5,
   "id": "e578eca4",
   "metadata": {},
   "outputs": [
    {
     "name": "stdout",
     "output_type": "stream",
     "text": [
      "book en stock\n",
      "Productos seleccionados por el cliente:  {'book'}\n"
     ]
    }
   ],
   "source": [
    "customer_order = get_customer_orders()\n",
    "print (\"Productos seleccionados por el cliente: \", customer_order)"
   ]
  },
  {
   "cell_type": "code",
   "execution_count": 12,
   "id": "a028e9c7",
   "metadata": {},
   "outputs": [],
   "source": [
    "def update_inventory(customer_orders, inventory):\n",
    "    for product in customer_orders:\n",
    "        if product in inventory and inventory[product] > 0:\n",
    "            inventory[product] -= 1\n",
    "    return inventory"
   ]
  },
  {
   "cell_type": "code",
   "execution_count": 13,
   "id": "4d8f8ba3",
   "metadata": {},
   "outputs": [
    {
     "name": "stdout",
     "output_type": "stream",
     "text": [
      "Inventario actualizado:  {'t-shirt': 9, 'mug': 10, 'hat': 5, 'book': 5, 'keychain': 9}\n"
     ]
    }
   ],
   "source": [
    "updated_inventory = update_inventory(customer_order, inventory)\n",
    "print (\"Inventario actualizado: \", update_inventory)"
   ]
  },
  {
   "cell_type": "code",
   "execution_count": 23,
   "id": "30fa3e78",
   "metadata": {},
   "outputs": [
    {
     "name": "stdout",
     "output_type": "stream",
     "text": [
      "book en stock\n",
      "mug en stock\n",
      "(2, 40.0)\n"
     ]
    }
   ],
   "source": [
    "products = ['t-shirt', 'mug', 'hat', 'book', 'keychain']\n",
    "\n",
    "customer_order = get_customer_orders()\n",
    "\n",
    "def calculate_order_statistics(customer_orders, products):\n",
    "    total_products = len(customer_orders)\n",
    "    unique_products = (len(set(customer_orders)) *100) / len(products)\n",
    "    return total_products, unique_products\n",
    "\n",
    "print(calculate_order_statistics(customer_order, products))"
   ]
  },
  {
   "cell_type": "code",
   "execution_count": 24,
   "id": "f020d489",
   "metadata": {},
   "outputs": [
    {
     "name": "stdout",
     "output_type": "stream",
     "text": [
      "Total products ordered: 2\n",
      "Unique products ordered: 40.0%\n"
     ]
    }
   ],
   "source": [
    "def print_order_statistics(order_statistics):\n",
    "    print(f\"Total products ordered: {order_statistics[0]}\")\n",
    "    print(f\"Unique products ordered: {order_statistics[1]}%\")\n",
    "    \n",
    "print_order_statistics(calculate_order_statistics(customer_order, products))"
   ]
  },
  {
   "cell_type": "code",
   "execution_count": 36,
   "id": "8eba05e3",
   "metadata": {},
   "outputs": [],
   "source": [
    "def print_update_inventory(inventory):\n",
    "    print(\"Inventario actualizado: \")\n",
    "    for product, quantity in inventory.items():\n",
    "        print (product, \": \", quantity)"
   ]
  },
  {
   "cell_type": "code",
   "execution_count": 37,
   "id": "28bc354e",
   "metadata": {},
   "outputs": [
    {
     "name": "stdout",
     "output_type": "stream",
     "text": [
      "Inventario actualizado: \n",
      "t-shirt :  9\n",
      "mug :  10\n",
      "hat :  5\n",
      "book :  5\n",
      "keychain :  9\n"
     ]
    }
   ],
   "source": [
    "print_update_inventory(inventory)"
   ]
  }
 ],
 "metadata": {
  "kernelspec": {
   "display_name": "Python 3 (ipykernel)",
   "language": "python",
   "name": "python3"
  },
  "language_info": {
   "codemirror_mode": {
    "name": "ipython",
    "version": 3
   },
   "file_extension": ".py",
   "mimetype": "text/x-python",
   "name": "python",
   "nbconvert_exporter": "python",
   "pygments_lexer": "ipython3",
   "version": "3.12.4"
  }
 },
 "nbformat": 4,
 "nbformat_minor": 5
}
